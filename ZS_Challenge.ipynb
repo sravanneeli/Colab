{
  "nbformat": 4,
  "nbformat_minor": 0,
  "metadata": {
    "colab": {
      "name": "ZS Challenge",
      "provenance": [],
      "collapsed_sections": [],
      "mount_file_id": "1Mi9Y4WY7xTHTa8Tj6bLFMfCMnoDHVDIU",
      "authorship_tag": "ABX9TyM/S7fH0HsN+quEGSzlhV6l",
      "include_colab_link": true
    },
    "kernelspec": {
      "name": "python3",
      "display_name": "Python 3"
    },
    "language_info": {
      "name": "python"
    },
    "accelerator": "GPU"
  },
  "cells": [
    {
      "cell_type": "markdown",
      "metadata": {
        "id": "view-in-github",
        "colab_type": "text"
      },
      "source": [
        "<a href=\"https://colab.research.google.com/github/sravanneeli/Colab/blob/main/ZS_Challenge.ipynb\" target=\"_parent\"><img src=\"https://colab.research.google.com/assets/colab-badge.svg\" alt=\"Open In Colab\"/></a>"
      ]
    },
    {
      "cell_type": "code",
      "execution_count": 1,
      "metadata": {
        "id": "_Lj6hbnfBWUI"
      },
      "outputs": [],
      "source": [
        "import numpy as np\n",
        "import pandas as pd\n",
        "import re\n",
        "\n",
        "import tensorflow as tf\n",
        "import tensorflow_hub as hub"
      ]
    },
    {
      "cell_type": "code",
      "source": [
        "from sklearn.feature_extraction.text import CountVectorizer, TfidfVectorizer\n",
        "from sklearn.model_selection import train_test_split, KFold, GridSearchCV\n",
        "from sklearn.metrics import confusion_matrix, roc_auc_score\n",
        "from sklearn.linear_model import LogisticRegression"
      ],
      "metadata": {
        "id": "Fj7-JqSMQfi0"
      },
      "execution_count": 2,
      "outputs": []
    },
    {
      "cell_type": "code",
      "source": [
        "train_df = pd.read_csv('/content/drive/MyDrive/ZS/train.csv')\n",
        "test_df = pd.read_csv('/content/drive/MyDrive/ZS/test.csv')"
      ],
      "metadata": {
        "id": "oEHekixrDNhQ"
      },
      "execution_count": 3,
      "outputs": []
    },
    {
      "cell_type": "code",
      "source": [
        "def clean_text(text):\n",
        "  text = re.sub(r'(?:(?:https?|ftp):\\/\\/)?[\\w/\\-?=%.]+\\.[\\w/\\-&?=%.]+', 'url', text)\n",
        "  text = re.sub(r'[^A-Za-z ]', ' ', text)\n",
        "  text = \" \".join(text.split())\n",
        "  return text.lower()"
      ],
      "metadata": {
        "id": "-GqGDhBdMhg7"
      },
      "execution_count": 4,
      "outputs": []
    },
    {
      "cell_type": "code",
      "source": [
        "train_df['cleaned'] = train_df['CONTENT'].apply(clean_text)\n",
        "test_df['cleaned']= test_df['CONTENT'].apply(clean_text)"
      ],
      "metadata": {
        "id": "uaeRvah3DTCW"
      },
      "execution_count": 5,
      "outputs": []
    },
    {
      "cell_type": "code",
      "source": [
        "def lr_model():\n",
        "  return LogisticRegression()"
      ],
      "metadata": {
        "id": "xXNTwI1wCfrz"
      },
      "execution_count": 6,
      "outputs": []
    },
    {
      "cell_type": "code",
      "source": [
        "def train_ml_model(X, y, X_test):\n",
        "  kf = KFold(random_state=5, n_splits=10, shuffle=True)\n",
        "  scores = []\n",
        "  y_pred_l = []\n",
        "  iteration = 1\n",
        "  for train_idx, val_idx in kf.split(X):\n",
        "    X_train, X_val, y_train, y_val = X[train_idx], X[val_idx], y[train_idx], y[val_idx]\n",
        "    model = lr_model()\n",
        "    model.fit(X_train.toarray(), y_train)\n",
        "    y_pred_val = model.predict(X_val.toarray())\n",
        "    r_a_score = roc_auc_score(y_val, y_pred_val)\n",
        "    scores.append(r_a_score)\n",
        "    print(f\"Iteration: {iteration} ROC-AUC Score - {r_a_score}\")\n",
        "    y_pred_l.append(model.predict_proba(X_test.toarray()))\n",
        "    iteration += 1\n",
        "\n",
        "  print(f\"Number of features: {X.shape[1]}, Mean ROC-AUC Score: {np.mean(scores)}\")\n",
        "  return np.mean(y_pred_l, axis=0)"
      ],
      "metadata": {
        "id": "RxlCseB07csP"
      },
      "execution_count": 11,
      "outputs": []
    },
    {
      "cell_type": "markdown",
      "source": [
        "# Count Vectorizer "
      ],
      "metadata": {
        "id": "tFbyP00jP268"
      }
    },
    {
      "cell_type": "code",
      "source": [
        "vectorizer = CountVectorizer(ngram_range=(1, 3), stop_words='english', min_df=2)\n",
        "X_train = vectorizer.fit_transform(train_df['cleaned'])\n",
        "X_test = vectorizer.transform(test_df['cleaned'])"
      ],
      "metadata": {
        "id": "jegqjw2vP185"
      },
      "execution_count": 8,
      "outputs": []
    },
    {
      "cell_type": "markdown",
      "source": [
        "## Logistic Regression Model"
      ],
      "metadata": {
        "id": "-uK8TgqaQaO7"
      }
    },
    {
      "cell_type": "code",
      "source": [
        "y_pred = train_ml_model(X_train, train_df['CLASS'], X_test)"
      ],
      "metadata": {
        "colab": {
          "base_uri": "https://localhost:8080/"
        },
        "id": "DP1YvyWhQZuN",
        "outputId": "f56a237e-eb5a-45aa-e511-655078640fb2"
      },
      "execution_count": 12,
      "outputs": [
        {
          "output_type": "stream",
          "name": "stdout",
          "text": [
            "Iteration: 1 ROC-AUC Score - 0.9161425576519916\n",
            "Iteration: 2 ROC-AUC Score - 0.9131727624145108\n",
            "Iteration: 3 ROC-AUC Score - 0.9032451923076923\n",
            "Iteration: 4 ROC-AUC Score - 0.896223609872138\n",
            "Iteration: 5 ROC-AUC Score - 0.9050480769230769\n",
            "Iteration: 6 ROC-AUC Score - 0.9049955396966993\n",
            "Iteration: 7 ROC-AUC Score - 0.8982142857142857\n",
            "Iteration: 8 ROC-AUC Score - 0.9001865671641791\n",
            "Iteration: 9 ROC-AUC Score - 0.9732847601700061\n",
            "Iteration: 10 ROC-AUC Score - 0.9155982905982906\n",
            "Number of features: 1933, Mean ROC-AUC Score: 0.9126111642512871\n"
          ]
        }
      ]
    },
    {
      "cell_type": "code",
      "source": [
        "test_df['CLASS'] = np.argmax(y_pred, axis=1)\n",
        "test_df[['ID', 'CLASS']].to_csv('/content/drive/MyDrive/ZS/3.csv', index=False)"
      ],
      "metadata": {
        "id": "Cch32uzZTpn_"
      },
      "execution_count": 14,
      "outputs": []
    },
    {
      "cell_type": "markdown",
      "source": [
        "# TFIDF"
      ],
      "metadata": {
        "id": "Csal8dMvj06d"
      }
    },
    {
      "cell_type": "code",
      "source": [
        "tfidf = TfidfVectorizer(ngram_range=(1, 3), stop_words='english', min_df=2)\n",
        "X_train = tfidf.fit_transform(train_df['cleaned'])\n",
        "X_test = tfidf.transform(test_df['cleaned'])"
      ],
      "metadata": {
        "id": "IZTvh6AriCyo"
      },
      "execution_count": 15,
      "outputs": []
    },
    {
      "cell_type": "code",
      "source": [
        "y_pred = train_ml_model(X_train, train_df['CLASS'], X_test)"
      ],
      "metadata": {
        "id": "kZhpquT-kNtm",
        "outputId": "eebf0063-053e-4ccd-9b53-a2e788a301be",
        "colab": {
          "base_uri": "https://localhost:8080/"
        }
      },
      "execution_count": 16,
      "outputs": [
        {
          "output_type": "stream",
          "name": "stdout",
          "text": [
            "Iteration: 1 ROC-AUC Score - 0.9097035040431267\n",
            "Iteration: 2 ROC-AUC Score - 0.9304192685102587\n",
            "Iteration: 3 ROC-AUC Score - 0.9278846153846154\n",
            "Iteration: 4 ROC-AUC Score - 0.9046981861433245\n",
            "Iteration: 5 ROC-AUC Score - 0.8816105769230769\n",
            "Iteration: 6 ROC-AUC Score - 0.8971156705322628\n",
            "Iteration: 7 ROC-AUC Score - 0.8738095238095237\n",
            "Iteration: 8 ROC-AUC Score - 0.9106032338308458\n",
            "Iteration: 9 ROC-AUC Score - 0.9650880388585308\n",
            "Iteration: 10 ROC-AUC Score - 0.9172771672771673\n",
            "Number of features: 1933, Mean ROC-AUC Score: 0.9118209785312732\n"
          ]
        }
      ]
    },
    {
      "cell_type": "code",
      "source": [
        "test_df['CLASS'] = np.argmax(y_pred, axis=1)\n",
        "test_df[['ID', 'CLASS']].to_csv('6.csv', index=False)"
      ],
      "metadata": {
        "id": "Aia2fFFiqZd-"
      },
      "execution_count": 17,
      "outputs": []
    },
    {
      "cell_type": "markdown",
      "source": [
        "# Embedding Method"
      ],
      "metadata": {
        "id": "tmhmzUup8qZI"
      }
    },
    {
      "cell_type": "code",
      "source": [
        "tf.random.set_seed(42)"
      ],
      "metadata": {
        "id": "QFBP4VSD-xb7"
      },
      "execution_count": 18,
      "outputs": []
    },
    {
      "cell_type": "code",
      "source": [
        "embedding = \"https://tfhub.dev/google/nnlm-en-dim128/2\"\n",
        "hub_layer = hub.KerasLayer(embedding, input_shape=[], \n",
        "                           dtype=tf.string, trainable=True)"
      ],
      "metadata": {
        "id": "1S1LEZyN78eo"
      },
      "execution_count": 19,
      "outputs": []
    },
    {
      "cell_type": "code",
      "source": [
        "model = tf.keras.Sequential()\n",
        "model.add(hub_layer)\n",
        "model.add(tf.keras.layers.Dense(32, activation='relu'))\n",
        "model.add(tf.keras.layers.Dense(1, activation='sigmoid'))\n",
        "\n",
        "model.summary()"
      ],
      "metadata": {
        "colab": {
          "base_uri": "https://localhost:8080/"
        },
        "id": "4Phs2Ywz80eb",
        "outputId": "5ec49ce8-d17b-49ea-d0f6-2f36411278af"
      },
      "execution_count": 20,
      "outputs": [
        {
          "output_type": "stream",
          "name": "stdout",
          "text": [
            "Model: \"sequential\"\n",
            "_________________________________________________________________\n",
            " Layer (type)                Output Shape              Param #   \n",
            "=================================================================\n",
            " keras_layer (KerasLayer)    (None, 128)               124642688 \n",
            "                                                                 \n",
            " dense (Dense)               (None, 32)                4128      \n",
            "                                                                 \n",
            " dense_1 (Dense)             (None, 1)                 33        \n",
            "                                                                 \n",
            "=================================================================\n",
            "Total params: 124,646,849\n",
            "Trainable params: 124,646,849\n",
            "Non-trainable params: 0\n",
            "_________________________________________________________________\n"
          ]
        }
      ]
    },
    {
      "cell_type": "code",
      "source": [
        "model.compile(optimizer='adam',\n",
        "              loss=tf.keras.losses.BinaryCrossentropy(),\n",
        "              metrics=['accuracy', tf.keras.metrics.AUC()])"
      ],
      "metadata": {
        "id": "ujj7-ja685DM"
      },
      "execution_count": 21,
      "outputs": []
    },
    {
      "cell_type": "code",
      "source": [
        "model.fit(train_df['cleaned'], train_df['CLASS'], batch_size=16, epochs=5, validation_split=0.1)"
      ],
      "metadata": {
        "colab": {
          "base_uri": "https://localhost:8080/"
        },
        "id": "NPXCThJ59KM1",
        "outputId": "1b0df0d8-5cf3-4c30-d09b-e6f6ebf50f1e"
      },
      "execution_count": 22,
      "outputs": [
        {
          "output_type": "stream",
          "name": "stdout",
          "text": [
            "Epoch 1/5\n",
            "66/66 [==============================] - 7s 83ms/step - loss: 0.5349 - accuracy: 0.8079 - auc: 0.9270 - val_loss: 0.2630 - val_accuracy: 0.9741 - val_auc: 0.9986\n",
            "Epoch 2/5\n",
            "66/66 [==============================] - 5s 75ms/step - loss: 0.2382 - accuracy: 0.9366 - auc: 0.9786 - val_loss: 0.1784 - val_accuracy: 0.9224 - val_auc: 0.9870\n",
            "Epoch 3/5\n",
            "66/66 [==============================] - 5s 75ms/step - loss: 0.1191 - accuracy: 0.9673 - auc: 0.9930 - val_loss: 0.1191 - val_accuracy: 0.9655 - val_auc: 0.9927\n",
            "Epoch 4/5\n",
            "66/66 [==============================] - 5s 75ms/step - loss: 0.0706 - accuracy: 0.9817 - auc: 0.9972 - val_loss: 0.1479 - val_accuracy: 0.9310 - val_auc: 0.9880\n",
            "Epoch 5/5\n",
            "66/66 [==============================] - 5s 75ms/step - loss: 0.0426 - accuracy: 0.9914 - auc: 0.9991 - val_loss: 0.1299 - val_accuracy: 0.9483 - val_auc: 0.9934\n"
          ]
        },
        {
          "output_type": "execute_result",
          "data": {
            "text/plain": [
              "<keras.callbacks.History at 0x7f0a66705e90>"
            ]
          },
          "metadata": {},
          "execution_count": 22
        }
      ]
    },
    {
      "cell_type": "code",
      "source": [
        "y_pred = model.predict(test_df['cleaned']) > 0.5\n",
        "test_df['CLASS'] = y_pred\n",
        "test_df['CLASS'] = test_df['CLASS'].apply(int)"
      ],
      "metadata": {
        "id": "07ibB8wV-Xt9"
      },
      "execution_count": 23,
      "outputs": []
    },
    {
      "cell_type": "code",
      "source": [
        "test_df[['ID', 'CLASS']].to_csv('/content/drive/MyDrive/ZS/9.csv', index=False)"
      ],
      "metadata": {
        "id": "mAbbZrmBAHfU"
      },
      "execution_count": 24,
      "outputs": []
    }
  ]
}