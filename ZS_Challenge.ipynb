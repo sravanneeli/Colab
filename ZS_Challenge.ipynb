{
  "nbformat": 4,
  "nbformat_minor": 0,
  "metadata": {
    "colab": {
      "name": "ZS Challenge",
      "provenance": [],
      "collapsed_sections": [],
      "mount_file_id": "1Mi9Y4WY7xTHTa8Tj6bLFMfCMnoDHVDIU",
      "authorship_tag": "ABX9TyPILJvZ+x+GwSYoXMUmBLGQ",
      "include_colab_link": true
    },
    "kernelspec": {
      "name": "python3",
      "display_name": "Python 3"
    },
    "language_info": {
      "name": "python"
    }
  },
  "cells": [
    {
      "cell_type": "markdown",
      "metadata": {
        "id": "view-in-github",
        "colab_type": "text"
      },
      "source": [
        "<a href=\"https://colab.research.google.com/github/sravanneeli/Colab/blob/main/ZS_Challenge.ipynb\" target=\"_parent\"><img src=\"https://colab.research.google.com/assets/colab-badge.svg\" alt=\"Open In Colab\"/></a>"
      ]
    },
    {
      "cell_type": "code",
      "execution_count": 28,
      "metadata": {
        "id": "_Lj6hbnfBWUI"
      },
      "outputs": [],
      "source": [
        "import numpy as np\n",
        "import pandas as pd\n",
        "import re"
      ]
    },
    {
      "cell_type": "code",
      "source": [
        "from sklearn.feature_extraction.text import CountVectorizer, TfidfVectorizer\n",
        "from sklearn.model_selection import train_test_split, KFold, GridSearchCV\n",
        "from sklearn.metrics import confusion_matrix, roc_auc_score\n",
        "from sklearn.linear_model import LogisticRegression"
      ],
      "metadata": {
        "id": "Fj7-JqSMQfi0"
      },
      "execution_count": null,
      "outputs": []
    },
    {
      "cell_type": "code",
      "source": [
        "train_df = pd.read_csv('/content/drive/MyDrive/ZS/train.csv')\n",
        "test_df = pd.read_csv('/content/drive/MyDrive/ZS/test.csv')"
      ],
      "metadata": {
        "id": "oEHekixrDNhQ"
      },
      "execution_count": null,
      "outputs": []
    },
    {
      "cell_type": "code",
      "source": [
        "def clean_text(text):\n",
        "  text = re.sub(r'(?:(?:https?|ftp):\\/\\/)?[\\w/\\-?=%.]+\\.[\\w/\\-&?=%.]+', 'url', text)\n",
        "  text = re.sub(r'[^A-Za-z ]', ' ', text)\n",
        "  text = \" \".join(text.split())\n",
        "  return text.lower()"
      ],
      "metadata": {
        "id": "-GqGDhBdMhg7"
      },
      "execution_count": null,
      "outputs": []
    },
    {
      "cell_type": "code",
      "source": [
        "train_df['cleaned'] = train_df['CONTENT'].apply(clean_text)\n",
        "test_df['cleaned']= test_df['CONTENT'].apply(clean_text)"
      ],
      "metadata": {
        "id": "uaeRvah3DTCW"
      },
      "execution_count": null,
      "outputs": []
    },
    {
      "cell_type": "code",
      "source": [
        "def train_ml_model(model, X, y, X_test):\n",
        "  kf = KFold(random_state=5, n_splits=10, shuffle=True)\n",
        "  scores = []\n",
        "  y_pred_l = []\n",
        "  iteration = 1\n",
        "  for train_idx, val_idx in kf.split(X):\n",
        "    X_train, X_val, y_train, y_val = X[train_idx], X[val_idx], y[train_idx], y[val_idx]\n",
        "    model.fit(X_train.toarray(), y_train)\n",
        "    y_pred_val = model.predict(X_val.toarray())\n",
        "    r_a_score = roc_auc_score(y_val, y_pred_val)\n",
        "    scores.append(r_a_score)\n",
        "    print(f\"Iteration: {iteration} ROC-AUC Score - {r_a_score}\")\n",
        "    y_pred_l.append(model.predict_proba(X_test.toarray()))\n",
        "    iteration += 1\n",
        "\n",
        "  print(f\"Number of features: {X.shape[1]}, Mean ROC-AUC Score: {np.mean(scores)}\")\n",
        "  return np.mean(y_pred_l, axis=0)"
      ],
      "metadata": {
        "id": "RxlCseB07csP"
      },
      "execution_count": null,
      "outputs": []
    },
    {
      "cell_type": "markdown",
      "source": [
        "# Count Vectorizer "
      ],
      "metadata": {
        "id": "tFbyP00jP268"
      }
    },
    {
      "cell_type": "code",
      "source": [
        "vectorizer = CountVectorizer(ngram_range=(1, 3), stop_words='english', min_df=2)\n",
        "X_train = vectorizer.fit_transform(train_df['cleaned'])\n",
        "X_test = vectorizer.transform(test_df['cleaned'])"
      ],
      "metadata": {
        "id": "jegqjw2vP185"
      },
      "execution_count": null,
      "outputs": []
    },
    {
      "cell_type": "markdown",
      "source": [
        "## Logistic Regression Model"
      ],
      "metadata": {
        "id": "-uK8TgqaQaO7"
      }
    },
    {
      "cell_type": "code",
      "source": [
        "lr = LogisticRegression()\n",
        "y_pred = train_ml_model(lr, X_train, train_df['CLASS'], X_test)"
      ],
      "metadata": {
        "colab": {
          "base_uri": "https://localhost:8080/"
        },
        "id": "DP1YvyWhQZuN",
        "outputId": "76fa8c3d-c06c-4130-fe55-80df6ff064f8"
      },
      "execution_count": null,
      "outputs": [
        {
          "output_type": "stream",
          "name": "stdout",
          "text": [
            "Iteration: 1 ROC-AUC Score - 0.9161425576519916\n",
            "Iteration: 2 ROC-AUC Score - 0.9131727624145108\n",
            "Iteration: 3 ROC-AUC Score - 0.9032451923076923\n",
            "Iteration: 4 ROC-AUC Score - 0.896223609872138\n",
            "Iteration: 5 ROC-AUC Score - 0.9050480769230769\n",
            "Iteration: 6 ROC-AUC Score - 0.9049955396966993\n",
            "Iteration: 7 ROC-AUC Score - 0.8982142857142857\n",
            "Iteration: 8 ROC-AUC Score - 0.9001865671641791\n",
            "Iteration: 9 ROC-AUC Score - 0.9732847601700061\n",
            "Iteration: 10 ROC-AUC Score - 0.9155982905982906\n",
            "Number of features: 1933, Mean ROC-AUC Score: 0.9126111642512871\n"
          ]
        }
      ]
    },
    {
      "cell_type": "code",
      "source": [
        "test_df['CLASS'] = np.argmax(y_pred, axis=1)\n",
        "test_df[['ID', 'CLASS']].to_csv('3.csv', index=False)"
      ],
      "metadata": {
        "id": "Cch32uzZTpn_"
      },
      "execution_count": null,
      "outputs": []
    },
    {
      "cell_type": "markdown",
      "source": [
        "# TFIDF"
      ],
      "metadata": {
        "id": "Csal8dMvj06d"
      }
    },
    {
      "cell_type": "code",
      "source": [
        "tfidf = TfidfVectorizer(ngram_range=(1, 3), stop_words='english', min_df=2)\n",
        "X_train = tfidf.fit_transform(train_df['cleaned'])\n",
        "X_test = tfidf.transform(test_df['cleaned'])"
      ],
      "metadata": {
        "id": "IZTvh6AriCyo"
      },
      "execution_count": 57,
      "outputs": []
    },
    {
      "cell_type": "code",
      "source": [
        "lr = LogisticRegression()\n",
        "y_pred = train_ml_model(lr, X_train, train_df['CLASS'], X_test)"
      ],
      "metadata": {
        "id": "kZhpquT-kNtm",
        "outputId": "bfdbd019-d33a-429d-d9fe-b0f51b87a122",
        "colab": {
          "base_uri": "https://localhost:8080/"
        }
      },
      "execution_count": 58,
      "outputs": [
        {
          "output_type": "stream",
          "name": "stdout",
          "text": [
            "Iteration: 1 ROC-AUC Score - 0.9097035040431267\n",
            "Iteration: 2 ROC-AUC Score - 0.9304192685102587\n",
            "Iteration: 3 ROC-AUC Score - 0.9278846153846154\n",
            "Iteration: 4 ROC-AUC Score - 0.9046981861433245\n",
            "Iteration: 5 ROC-AUC Score - 0.8816105769230769\n",
            "Iteration: 6 ROC-AUC Score - 0.8971156705322628\n",
            "Iteration: 7 ROC-AUC Score - 0.8738095238095237\n",
            "Iteration: 8 ROC-AUC Score - 0.9106032338308458\n",
            "Iteration: 9 ROC-AUC Score - 0.9650880388585308\n",
            "Iteration: 10 ROC-AUC Score - 0.9172771672771673\n",
            "Number of features: 1933, Mean ROC-AUC Score: 0.9118209785312732\n"
          ]
        }
      ]
    },
    {
      "cell_type": "code",
      "source": [
        "test_df['CLASS'] = np.argmax(y_pred, axis=1)\n",
        "test_df[['ID', 'CLASS']].to_csv('6.csv', index=False)"
      ],
      "metadata": {
        "id": "Aia2fFFiqZd-"
      },
      "execution_count": 59,
      "outputs": []
    }
  ]
}